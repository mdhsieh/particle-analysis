{
  "nbformat": 4,
  "nbformat_minor": 0,
  "metadata": {
    "colab": {
      "name": "lstm-mask-rcnn-train-and-inference.ipynb",
      "provenance": [],
      "collapsed_sections": []
    },
    "kernelspec": {
      "display_name": "Python 3",
      "name": "python3"
    },
    "language_info": {
      "name": "python"
    }
  },
  "cells": [
    {
      "cell_type": "markdown",
      "metadata": {
        "id": "v7hDd6DWpPjo"
      },
      "source": [
        "Recurrent Mask R-CNN Demo\n",
        "\n",
        "Ref: https://github.com/cechung/R-RCNN\n",
        "\n",
        "- Single Object Tracking\n",
        "- detection module: Matterport implementation Mask R-CNN\n",
        "- tracking module: 1 LSTM unit"
      ]
    },
    {
      "cell_type": "code",
      "metadata": {
        "colab": {
          "base_uri": "https://localhost:8080/"
        },
        "id": "c0oaSLH6DM7v",
        "outputId": "56eee77e-465e-4bad-b4e3-8c0c55ca7a18"
      },
      "source": [
        "# mount drive\n",
        "from google.colab import drive\n",
        "drive.mount('/content/drive')"
      ],
      "execution_count": 1,
      "outputs": [
        {
          "output_type": "stream",
          "text": [
            "Mounted at /content/drive\n"
          ],
          "name": "stdout"
        }
      ]
    },
    {
      "cell_type": "code",
      "metadata": {
        "id": "q9dlrTg7-vJj",
        "colab": {
          "base_uri": "https://localhost:8080/"
        },
        "outputId": "d14d8923-ccc8-40a9-8057-df9127180f83"
      },
      "source": [
        "# need tf 1.15.2\n",
        "%tensorflow_version 1.x"
      ],
      "execution_count": null,
      "outputs": [
        {
          "output_type": "stream",
          "text": [
            "TensorFlow 1.x selected.\n"
          ],
          "name": "stdout"
        }
      ]
    },
    {
      "cell_type": "code",
      "metadata": {
        "colab": {
          "base_uri": "https://localhost:8080/"
        },
        "id": "GlTzsqO_-vtQ",
        "outputId": "73da9927-cd03-4125-f189-e5a59ea081d7"
      },
      "source": [
        "import tensorflow\n",
        "print(tensorflow.__version__)"
      ],
      "execution_count": null,
      "outputs": [
        {
          "output_type": "stream",
          "text": [
            "1.15.2\n"
          ],
          "name": "stdout"
        }
      ]
    },
    {
      "cell_type": "code",
      "metadata": {
        "colab": {
          "base_uri": "https://localhost:8080/"
        },
        "id": "VytNOELo_zj4",
        "outputId": "e077f50d-45f1-48bc-fd2a-e527368a744c"
      },
      "source": [
        "# fix AttributeError: 'str' object has no attribute 'decode'\n",
        "!pip install h5py==2.10.0"
      ],
      "execution_count": null,
      "outputs": [
        {
          "output_type": "stream",
          "text": [
            "Requirement already satisfied: h5py==2.10.0 in /usr/local/lib/python3.7/dist-packages (2.10.0)\n",
            "Requirement already satisfied: six in /usr/local/lib/python3.7/dist-packages (from h5py==2.10.0) (1.15.0)\n",
            "Requirement already satisfied: numpy>=1.7 in /usr/local/lib/python3.7/dist-packages (from h5py==2.10.0) (1.19.5)\n"
          ],
          "name": "stdout"
        }
      ]
    },
    {
      "cell_type": "code",
      "metadata": {
        "colab": {
          "base_uri": "https://localhost:8080/"
        },
        "id": "xJjy56EoBSjF",
        "outputId": "80ff9d77-d258-410f-8c2e-d80158a89aa7"
      },
      "source": [
        "# fix AttributeError: module 'scipy.misc' has no attribute 'imresize'\n",
        "!pip install scipy==1.2.2"
      ],
      "execution_count": null,
      "outputs": [
        {
          "output_type": "stream",
          "text": [
            "Requirement already satisfied: scipy==1.2.2 in /usr/local/lib/python3.7/dist-packages (1.2.2)\n",
            "Requirement already satisfied: numpy>=1.8.2 in /usr/local/lib/python3.7/dist-packages (from scipy==1.2.2) (1.19.5)\n"
          ],
          "name": "stdout"
        }
      ]
    },
    {
      "cell_type": "code",
      "metadata": {
        "colab": {
          "base_uri": "https://localhost:8080/"
        },
        "id": "LprevodMDNkf",
        "outputId": "92bbb4ec-5b06-4971-c828-149bba23adc0"
      },
      "source": [
        "# go to folder containing LSTM_Mask_RCNN repo and outputs\n",
        "import os\n",
        "root = \"/content/drive/MyDrive/data/summer-project/LSTM_Mask_RCNN/\"\n",
        "os.chdir(root)\n",
        "!pwd"
      ],
      "execution_count": 2,
      "outputs": [
        {
          "output_type": "stream",
          "text": [
            "/content/drive/MyDrive/data/summer-project/LSTM_Mask_RCNN\n"
          ],
          "name": "stdout"
        }
      ]
    },
    {
      "cell_type": "code",
      "metadata": {
        "colab": {
          "base_uri": "https://localhost:8080/"
        },
        "id": "priTHD9iqjc6",
        "outputId": "b45faa1e-b494-4b97-b477-f7f20b209d46"
      },
      "source": [
        "# install requirements\n",
        "!pip install -r requirements.txt"
      ],
      "execution_count": null,
      "outputs": [
        {
          "output_type": "stream",
          "text": [
            "Requirement already satisfied: numpy in /usr/local/lib/python3.7/dist-packages (from -r requirements.txt (line 1)) (1.19.5)\n",
            "Requirement already satisfied: scipy in /usr/local/lib/python3.7/dist-packages (from -r requirements.txt (line 2)) (1.2.2)\n",
            "Requirement already satisfied: Pillow in /usr/local/lib/python3.7/dist-packages (from -r requirements.txt (line 3)) (7.1.2)\n",
            "Requirement already satisfied: cython in /usr/local/lib/python3.7/dist-packages (from -r requirements.txt (line 4)) (0.29.23)\n",
            "Requirement already satisfied: matplotlib in /usr/local/lib/python3.7/dist-packages (from -r requirements.txt (line 5)) (3.2.2)\n",
            "Requirement already satisfied: scikit-image in /usr/local/lib/python3.7/dist-packages (from -r requirements.txt (line 6)) (0.16.2)\n",
            "Requirement already satisfied: h5py in /usr/local/lib/python3.7/dist-packages (from -r requirements.txt (line 7)) (2.10.0)\n",
            "Requirement already satisfied: imgaug in /usr/local/lib/python3.7/dist-packages (from -r requirements.txt (line 8)) (0.2.9)\n",
            "Requirement already satisfied: kiwisolver>=1.0.1 in /usr/local/lib/python3.7/dist-packages (from matplotlib->-r requirements.txt (line 5)) (1.3.1)\n",
            "Requirement already satisfied: cycler>=0.10 in /usr/local/lib/python3.7/dist-packages (from matplotlib->-r requirements.txt (line 5)) (0.10.0)\n",
            "Requirement already satisfied: python-dateutil>=2.1 in /usr/local/lib/python3.7/dist-packages (from matplotlib->-r requirements.txt (line 5)) (2.8.1)\n",
            "Requirement already satisfied: pyparsing!=2.0.4,!=2.1.2,!=2.1.6,>=2.0.1 in /usr/local/lib/python3.7/dist-packages (from matplotlib->-r requirements.txt (line 5)) (2.4.7)\n",
            "Requirement already satisfied: six in /usr/local/lib/python3.7/dist-packages (from cycler>=0.10->matplotlib->-r requirements.txt (line 5)) (1.15.0)\n",
            "Requirement already satisfied: PyWavelets>=0.4.0 in /usr/local/lib/python3.7/dist-packages (from scikit-image->-r requirements.txt (line 6)) (1.1.1)\n",
            "Requirement already satisfied: networkx>=2.0 in /usr/local/lib/python3.7/dist-packages (from scikit-image->-r requirements.txt (line 6)) (2.5.1)\n",
            "Requirement already satisfied: imageio>=2.3.0 in /usr/local/lib/python3.7/dist-packages (from scikit-image->-r requirements.txt (line 6)) (2.4.1)\n",
            "Requirement already satisfied: decorator<5,>=4.3 in /usr/local/lib/python3.7/dist-packages (from networkx>=2.0->scikit-image->-r requirements.txt (line 6)) (4.4.2)\n",
            "Requirement already satisfied: opencv-python in /usr/local/lib/python3.7/dist-packages (from imgaug->-r requirements.txt (line 8)) (4.1.2.30)\n",
            "Requirement already satisfied: Shapely in /usr/local/lib/python3.7/dist-packages (from imgaug->-r requirements.txt (line 8)) (1.7.1)\n"
          ],
          "name": "stdout"
        }
      ]
    },
    {
      "cell_type": "markdown",
      "metadata": {
        "id": "tRI0DyJOrYfG"
      },
      "source": [
        "# Training"
      ]
    },
    {
      "cell_type": "code",
      "metadata": {
        "id": "CWIpd1ZmuWsw"
      },
      "source": [
        "# use pre-trained weight kaggle_bowl.h5"
      ],
      "execution_count": null,
      "outputs": []
    },
    {
      "cell_type": "markdown",
      "metadata": {
        "id": "r-H-RtFBJCO2"
      },
      "source": [
        "# Inference"
      ]
    },
    {
      "cell_type": "markdown",
      "metadata": {
        "id": "b45n96IKmjXB"
      },
      "source": [
        "## inference demos of Mask R-CNN and Mask R-CNN + LSTM"
      ]
    },
    {
      "cell_type": "code",
      "metadata": {
        "id": "23gsZ4WUGCiv",
        "colab": {
          "base_uri": "https://localhost:8080/"
        },
        "outputId": "63518e91-8a28-4eef-8344-262d0f881fd4"
      },
      "source": [
        "# demo mask r-cnn\n",
        "# detect images in demo_video_nucleus/frames.\n",
        "!python demo_mrcnn.py"
      ],
      "execution_count": null,
      "outputs": [
        {
          "output_type": "stream",
          "text": [
            "Using TensorFlow backend.\n",
            "root dir: /content/drive/My Drive/data/summer-project/LSTM_Mask_RCNN\n",
            "\n",
            "Configurations:\n",
            "BACKBONE                       resnet50\n",
            "BACKBONE_STRIDES               [4, 8, 16, 32, 64]\n",
            "BATCH_SIZE                     1\n",
            "BBOX_STD_DEV                   [0.1 0.1 0.2 0.2]\n",
            "COMPUTE_BACKBONE_SHAPE         None\n",
            "DETECTION_MAX_INSTANCES        400\n",
            "DETECTION_MIN_CONFIDENCE       0\n",
            "DETECTION_NMS_THRESHOLD        0.3\n",
            "FPN_CLASSIF_FC_LAYERS_SIZE     1024\n",
            "GPU_COUNT                      1\n",
            "GRADIENT_CLIP_NORM             5.0\n",
            "IMAGES_PER_GPU                 1\n",
            "IMAGE_CHANNEL_COUNT            3\n",
            "IMAGE_MAX_DIM                  512\n",
            "IMAGE_META_SIZE                14\n",
            "IMAGE_MIN_DIM                  512\n",
            "IMAGE_MIN_SCALE                2.0\n",
            "IMAGE_RESIZE_MODE              pad64\n",
            "IMAGE_SHAPE                    [512 512   3]\n",
            "LEARNING_MOMENTUM              0.9\n",
            "LEARNING_RATE                  0.001\n",
            "LOSS_WEIGHTS                   {'rpn_class_loss': 1.0, 'rpn_bbox_loss': 1.0, 'mrcnn_class_loss': 1.0, 'mrcnn_bbox_loss': 1.0, 'mrcnn_mask_loss': 1.0}\n",
            "MASK_POOL_SIZE                 14\n",
            "MASK_SHAPE                     [28, 28]\n",
            "MAX_GT_INSTANCES               200\n",
            "MEAN_PIXEL                     [43.53 39.56 48.22]\n",
            "MINI_MASK_SHAPE                (56, 56)\n",
            "NAME                           nucleus\n",
            "NUM_CLASSES                    2\n",
            "POOL_SIZE                      7\n",
            "POST_NMS_ROIS_INFERENCE        2000\n",
            "POST_NMS_ROIS_TRAINING         1000\n",
            "PRE_NMS_LIMIT                  6000\n",
            "ROI_POSITIVE_RATIO             0.33\n",
            "RPN_ANCHOR_RATIOS              [0.5, 1, 2]\n",
            "RPN_ANCHOR_SCALES              (8, 16, 32, 64, 128)\n",
            "RPN_ANCHOR_STRIDE              1\n",
            "RPN_BBOX_STD_DEV               [0.1 0.1 0.2 0.2]\n",
            "RPN_NMS_THRESHOLD              0.7\n",
            "RPN_TRAIN_ANCHORS_PER_IMAGE    64\n",
            "STEPS_PER_EPOCH                10\n",
            "TOP_DOWN_PYRAMID_SIZE          256\n",
            "TRAIN_BN                       False\n",
            "TRAIN_ROIS_PER_IMAGE           128\n",
            "USE_MINI_MASK                  True\n",
            "USE_RPN_ROIS                   True\n",
            "VALIDATION_STEPS               1\n",
            "WEIGHT_DECAY                   0.0001\n",
            "\n",
            "\n",
            "WARNING:tensorflow:From /tensorflow-1.15.2/python3.7/tensorflow_core/python/ops/resource_variable_ops.py:1630: calling BaseResourceVariable.__init__ (from tensorflow.python.ops.resource_variable_ops) with constraint is deprecated and will be removed in a future version.\n",
            "Instructions for updating:\n",
            "If using Keras pass *_constraint arguments to layers.\n",
            "WARNING:tensorflow:From /tensorflow-1.15.2/python3.7/keras/backend/tensorflow_backend.py:4070: The name tf.nn.max_pool is deprecated. Please use tf.nn.max_pool2d instead.\n",
            "\n",
            "WARNING:tensorflow:From /content/drive/My Drive/data/summer-project/LSTM_Mask_RCNN/detection_module/detect_model.py:319: The name tf.log is deprecated. Please use tf.math.log instead.\n",
            "\n",
            "WARNING:tensorflow:From /content/drive/My Drive/data/summer-project/LSTM_Mask_RCNN/detection_module/detect_model.py:424: where (from tensorflow.python.ops.array_ops) is deprecated and will be removed in a future version.\n",
            "Instructions for updating:\n",
            "Use tf.where in 2.0, which has the same broadcast rule as np.where\n",
            "WARNING:tensorflow:From /content/drive/My Drive/data/summer-project/LSTM_Mask_RCNN/detection_module/detect_model.py:448: calling crop_and_resize_v1 (from tensorflow.python.ops.image_ops_impl) with box_ind is deprecated and will be removed in a future version.\n",
            "Instructions for updating:\n",
            "box_ind is deprecated, use box_indices instead\n",
            "WARNING:tensorflow:From /content/drive/My Drive/data/summer-project/LSTM_Mask_RCNN/detection_module/detect_model.py:834: py_func (from tensorflow.python.ops.script_ops) is deprecated and will be removed in a future version.\n",
            "Instructions for updating:\n",
            "tf.py_func is deprecated in TF V2. Instead, there are two\n",
            "    options available in V2.\n",
            "    - tf.py_function takes a python function which manipulates tf eager\n",
            "    tensors instead of numpy arrays. It's easy to convert a tf eager tensor to\n",
            "    an ndarray (just call tensor.numpy()) but having access to eager tensors\n",
            "    means `tf.py_function`s can use accelerators such as GPUs as well as\n",
            "    being differentiable using a gradient tape.\n",
            "    - tf.numpy_function maintains the semantics of the deprecated tf.py_func\n",
            "    (it is not differentiable, and manipulates numpy arrays). It drops the\n",
            "    stateful argument making all functions stateful.\n",
            "    \n",
            "Loading weights  kaggle_bowl.h5\n",
            "2021-07-25 19:18:08.204758: I tensorflow/stream_executor/platform/default/dso_loader.cc:44] Successfully opened dynamic library libcuda.so.1\n",
            "2021-07-25 19:18:08.217590: E tensorflow/stream_executor/cuda/cuda_driver.cc:318] failed call to cuInit: CUDA_ERROR_NO_DEVICE: no CUDA-capable device is detected\n",
            "2021-07-25 19:18:08.217659: I tensorflow/stream_executor/cuda/cuda_diagnostics.cc:156] kernel driver does not appear to be running on this host (1e20fb663e0f): /proc/driver/nvidia/version does not exist\n",
            "2021-07-25 19:18:08.224436: I tensorflow/core/platform/profile_utils/cpu_utils.cc:94] CPU Frequency: 2199995000 Hz\n",
            "2021-07-25 19:18:08.224768: I tensorflow/compiler/xla/service/service.cc:168] XLA service 0x55f7259c2a00 initialized for platform Host (this does not guarantee that XLA will be used). Devices:\n",
            "2021-07-25 19:18:08.224815: I tensorflow/compiler/xla/service/service.cc:176]   StreamExecutor device (0): Host, Default Version\n",
            "removed alpha channel! new image shape: (200, 200, 3)\n",
            "object detection using detect()\n",
            "image name: 0001.jpg\n",
            "Processing 1 images\n",
            "image                    shape: (200, 200, 3)         min:    0.00000  max:  255.00000\n",
            "molded_images            shape: (1, 512, 512, 3)      min:  -48.22000  max:  215.44000\n",
            "image_metas              shape: (1, 10)               min:    0.00000  max:  512.00000\n",
            "WARNING:tensorflow:From /tensorflow-1.15.2/python3.7/keras/backend/tensorflow_backend.py:422: The name tf.global_variables is deprecated. Please use tf.compat.v1.global_variables instead.\n",
            "\n",
            "removed alpha channel! new image shape: (200, 200, 3)\n",
            "object detection using detect()\n",
            "image name: 0007.jpg\n",
            "Processing 1 images\n",
            "image                    shape: (200, 200, 3)         min:    0.00000  max:  255.00000\n",
            "molded_images            shape: (1, 512, 512, 3)      min:  -48.22000  max:  215.44000\n",
            "image_metas              shape: (1, 10)               min:    0.00000  max:  512.00000\n",
            "removed alpha channel! new image shape: (200, 200, 3)\n",
            "object detection using detect()\n",
            "image name: 0010.jpg\n",
            "Processing 1 images\n",
            "image                    shape: (200, 200, 3)         min:    0.00000  max:  255.00000\n",
            "molded_images            shape: (1, 512, 512, 3)      min:  -48.22000  max:  215.44000\n",
            "image_metas              shape: (1, 10)               min:    0.00000  max:  512.00000\n",
            "removed alpha channel! new image shape: (200, 200, 3)\n",
            "object detection using detect()\n",
            "image name: 0009.jpg\n",
            "Processing 1 images\n",
            "image                    shape: (200, 200, 3)         min:    0.00000  max:  255.00000\n",
            "molded_images            shape: (1, 512, 512, 3)      min:  -48.22000  max:  215.44000\n",
            "image_metas              shape: (1, 10)               min:    0.00000  max:  512.00000\n",
            "removed alpha channel! new image shape: (200, 200, 3)\n",
            "object detection using detect()\n",
            "image name: 0005.jpg\n",
            "Processing 1 images\n",
            "image                    shape: (200, 200, 3)         min:    0.00000  max:  255.00000\n",
            "molded_images            shape: (1, 512, 512, 3)      min:  -48.22000  max:  215.44000\n",
            "image_metas              shape: (1, 10)               min:    0.00000  max:  512.00000\n",
            "removed alpha channel! new image shape: (200, 200, 3)\n",
            "object detection using detect()\n",
            "image name: 0003.jpg\n",
            "Processing 1 images\n",
            "image                    shape: (200, 200, 3)         min:    0.00000  max:  255.00000\n",
            "molded_images            shape: (1, 512, 512, 3)      min:  -48.22000  max:  215.44000\n",
            "image_metas              shape: (1, 10)               min:    0.00000  max:  512.00000\n",
            "removed alpha channel! new image shape: (200, 200, 3)\n",
            "object detection using detect()\n",
            "image name: 0006.jpg\n",
            "Processing 1 images\n",
            "image                    shape: (200, 200, 3)         min:    0.00000  max:  255.00000\n",
            "molded_images            shape: (1, 512, 512, 3)      min:  -48.22000  max:  215.44000\n",
            "image_metas              shape: (1, 10)               min:    0.00000  max:  512.00000\n",
            "removed alpha channel! new image shape: (200, 200, 3)\n",
            "object detection using detect()\n",
            "image name: 0008.jpg\n",
            "Processing 1 images\n",
            "image                    shape: (200, 200, 3)         min:    0.00000  max:  255.00000\n",
            "molded_images            shape: (1, 512, 512, 3)      min:  -48.22000  max:  215.44000\n",
            "image_metas              shape: (1, 10)               min:    0.00000  max:  512.00000\n",
            "removed alpha channel! new image shape: (200, 200, 3)\n",
            "object detection using detect()\n",
            "image name: 0002.jpg\n",
            "Processing 1 images\n",
            "image                    shape: (200, 200, 3)         min:    0.00000  max:  255.00000\n",
            "molded_images            shape: (1, 512, 512, 3)      min:  -48.22000  max:  215.44000\n",
            "image_metas              shape: (1, 10)               min:    0.00000  max:  512.00000\n",
            "removed alpha channel! new image shape: (200, 200, 3)\n",
            "object detection using detect()\n",
            "image name: 0011.jpg\n",
            "Processing 1 images\n",
            "image                    shape: (200, 200, 3)         min:    0.00000  max:  255.00000\n",
            "molded_images            shape: (1, 512, 512, 3)      min:  -48.22000  max:  215.44000\n",
            "image_metas              shape: (1, 10)               min:    0.00000  max:  512.00000\n",
            "removed alpha channel! new image shape: (200, 200, 3)\n",
            "object detection using detect()\n",
            "image name: 0004.jpg\n",
            "Processing 1 images\n",
            "image                    shape: (200, 200, 3)         min:    0.00000  max:  255.00000\n",
            "molded_images            shape: (1, 512, 512, 3)      min:  -48.22000  max:  215.44000\n",
            "image_metas              shape: (1, 10)               min:    0.00000  max:  512.00000\n",
            "removed alpha channel! new image shape: (200, 200, 3)\n",
            "object detection using detect()\n",
            "image name: 0012.jpg\n",
            "Processing 1 images\n",
            "image                    shape: (200, 200, 3)         min:    0.00000  max:  255.00000\n",
            "molded_images            shape: (1, 512, 512, 3)      min:  -48.22000  max:  215.44000\n",
            "image_metas              shape: (1, 10)               min:    0.00000  max:  512.00000\n",
            "removed alpha channel! new image shape: (200, 200, 3)\n",
            "object detection using detect()\n",
            "image name: 0013.jpg\n",
            "Processing 1 images\n",
            "image                    shape: (200, 200, 3)         min:    0.00000  max:  255.00000\n",
            "molded_images            shape: (1, 512, 512, 3)      min:  -48.22000  max:  215.44000\n",
            "image_metas              shape: (1, 10)               min:    0.00000  max:  512.00000\n",
            "removed alpha channel! new image shape: (200, 200, 3)\n",
            "object detection using detect()\n",
            "image name: 0014.jpg\n",
            "Processing 1 images\n",
            "image                    shape: (200, 200, 3)         min:    0.00000  max:  255.00000\n",
            "molded_images            shape: (1, 512, 512, 3)      min:  -48.22000  max:  215.44000\n",
            "image_metas              shape: (1, 10)               min:    0.00000  max:  512.00000\n",
            "removed alpha channel! new image shape: (256, 256, 3)\n",
            "object detection using detect()\n",
            "image name: 0016.png\n",
            "Processing 1 images\n",
            "image                    shape: (256, 256, 3)         min:   10.00000  max:  125.00000\n",
            "molded_images            shape: (1, 512, 512, 3)      min:  -38.22000  max:   82.44000\n",
            "image_metas              shape: (1, 10)               min:    0.00000  max:  512.00000\n",
            "removed alpha channel! new image shape: (256, 256, 3)\n",
            "object detection using detect()\n",
            "image name: 0015.png\n",
            "Processing 1 images\n",
            "image                    shape: (256, 256, 3)         min:    1.00000  max:  147.00000\n",
            "molded_images            shape: (1, 512, 512, 3)      min:  -47.22000  max:  104.44000\n",
            "image_metas              shape: (1, 10)               min:    0.00000  max:  512.00000\n",
            "removed alpha channel! new image shape: (256, 320, 3)\n",
            "object detection using detect()\n",
            "image name: 0017.png\n",
            "Processing 1 images\n",
            "image                    shape: (256, 320, 3)         min:   15.00000  max:  235.00000\n",
            "molded_images            shape: (1, 512, 512, 3)      min:  -48.22000  max:  191.47000\n",
            "image_metas              shape: (1, 10)               min:    0.00000  max:  512.00000\n",
            "removed alpha channel! new image shape: (520, 696, 3)\n",
            "object detection using detect()\n",
            "image name: 0018.png\n",
            "Processing 1 images\n",
            "image                    shape: (520, 696, 3)         min:    8.00000  max:   79.00000\n",
            "molded_images            shape: (1, 512, 512, 3)      min:  -48.22000  max:   36.44000\n",
            "image_metas              shape: (1, 10)               min:    0.00000  max:  696.00000\n",
            "Done. Results saved in /content/drive/My Drive/data/summer-project/LSTM_Mask_RCNN/mrcnn_result\n"
          ],
          "name": "stdout"
        }
      ]
    },
    {
      "cell_type": "markdown",
      "metadata": {
        "id": "sbLNOuCsXYbK"
      },
      "source": [
        "This script was moved into `demo_mrcnn.py`.\n",
        "\n",
        "Uncomment to perform detection on a single image.\n",
        "`input_img_name` is the input file name\n",
        "`img_name` is the output file name"
      ]
    },
    {
      "cell_type": "code",
      "metadata": {
        "colab": {
          "base_uri": "https://localhost:8080/",
          "height": 139
        },
        "id": "zVYjn0AcRKxs",
        "outputId": "b75f0bb6-8547-471f-dc87-bd7e9d0abb75"
      },
      "source": [
        "'''\n",
        "# new script using nucleus.py from https://github.com/matterport/Mask_RCNN/tree/master/samples/nucleus\n",
        "# go to samples/nucleus folder in LSTM_Mask_RCNN repo\n",
        "import os\n",
        "root = \"/content/drive/MyDrive/data/summer-project/LSTM_Mask_RCNN/samples/nucleus\"\n",
        "os.chdir(root)\n",
        "!pwd\n",
        "# import nucleus is only available in samples/nucleus directory\n",
        "import nucleus\n",
        "\n",
        "import os\n",
        "import sys\n",
        "import random\n",
        "import math\n",
        "import re\n",
        "import time\n",
        "import numpy as np\n",
        "import tensorflow as tf\n",
        "import matplotlib\n",
        "import matplotlib.pyplot as plt\n",
        "import matplotlib.patches as patches\n",
        "\n",
        "# Root directory of the project\n",
        "ROOT_DIR = os.path.abspath(\"../../\")\n",
        "\n",
        "# Import Mask RCNN\n",
        "sys.path.append(ROOT_DIR)  # To find local version of the library\n",
        "from mrcnn import utils\n",
        "from mrcnn import visualize\n",
        "from mrcnn.visualize import display_images\n",
        "import mrcnn.model as modellib\n",
        "from mrcnn.model import log\n",
        "\n",
        "# to read image only\n",
        "import skimage.io\n",
        "\n",
        "# Directory to save logs and trained model\n",
        "LOGS_DIR = os.path.join(ROOT_DIR, \"logs\")\n",
        "\n",
        "# Dataset directory\n",
        "# DATASET_DIR = os.path.join(ROOT_DIR, \"single-particle-dataset/nucleus\")\n",
        "DATASET_DIR = os.path.join(ROOT_DIR, \"demo_video_nucleus/frames\")\n",
        "\n",
        "# Inference Configuration\n",
        "config = nucleus.NucleusInferenceConfig()\n",
        "config.display()\n",
        "\n",
        "# Device to load the neural network on.\n",
        "DEVICE = \"/cpu:0\"  # /cpu:0 or /gpu:0\n",
        "\n",
        "# Inspect the model in training or inference modes\n",
        "# values: 'inference' or 'training'\n",
        "# Only inference mode is supported right now\n",
        "TEST_MODE = \"inference\"\n",
        "\n",
        "# Create model in inference mode\n",
        "with tf.device(DEVICE):\n",
        "    model = modellib.MaskRCNN(mode=\"inference\",\n",
        "                              model_dir=LOGS_DIR,\n",
        "                              config=config)\n",
        "\n",
        "# Path to a specific weights file\n",
        "weights_path = \"../../kaggle_bowl.h5\"\n",
        "\n",
        "# Load weights\n",
        "print(\"Loading weights \", weights_path)\n",
        "model.load_weights(weights_path, by_name=True)\n",
        "\n",
        "image_id = 1 # 15 # 0\n",
        "input_img_name = \"0001.jpg\" # \"0015.png\" # \"0000.png\"\n",
        "# img_path = os.path.join(DATASET_DIR, \"stage1_test\", \"0000\", \"images\", input_img_name)\n",
        "img_path = os.path.join(DATASET_DIR, input_img_name)\n",
        "# from https://github.com/matterport/Mask_RCNN/blob/master/mrcnn/utils.py\n",
        "# Load image\n",
        "image = skimage.io.imread(img_path)\n",
        "print(image.ndim)\n",
        "# remove alpha channel to get 3 dim instead of 4\n",
        "image = image[:,:,:3]\n",
        "print(\"removed alpha channel!:\", image.shape)\n",
        "\n",
        "# regular detection function\n",
        "print(\"object detection using detect()\")\n",
        "img_name = str(image_id) + \".png\" # \".jpg\"\n",
        "print(\"image name: \" + img_name)\n",
        "\n",
        "import utils.utils as utils\n",
        "import utils.visualize as visualize\n",
        "coco_class_names = ['BG', 'cell']\n",
        "RESULT_DIR = os.path.join(ROOT_DIR, \"mrcnn_result\")\n",
        "regular_results = model.detect([image], verbose=1)\n",
        "reg_r = regular_results[0]\n",
        "# Visualize results\n",
        "visualize.save_image(image, img_name, reg_r['rois'], reg_r['masks'],\n",
        "  reg_r['class_ids'], reg_r['scores'], coco_class_names,\n",
        "  filter_classs_names=None, scores_thresh=0.1, \n",
        "  save_dir=RESULT_DIR, mode=1)\n",
        "\n",
        "print(\"Done\")\n",
        "'''"
      ],
      "execution_count": null,
      "outputs": [
        {
          "output_type": "execute_result",
          "data": {
            "application/vnd.google.colaboratory.intrinsic+json": {
              "type": "string"
            },
            "text/plain": [
              "'\\n# new script using nucleus.py from https://github.com/matterport/Mask_RCNN/tree/master/samples/nucleus\\n# go to samples/nucleus folder in LSTM_Mask_RCNN repo\\nimport os\\nroot = \"/content/drive/MyDrive/data/summer-project/LSTM_Mask_RCNN/samples/nucleus\"\\nos.chdir(root)\\n!pwd\\n# import nucleus is only available in samples/nucleus directory\\nimport nucleus\\n\\nimport os\\nimport sys\\nimport random\\nimport math\\nimport re\\nimport time\\nimport numpy as np\\nimport tensorflow as tf\\nimport matplotlib\\nimport matplotlib.pyplot as plt\\nimport matplotlib.patches as patches\\n\\n# Root directory of the project\\nROOT_DIR = os.path.abspath(\"../../\")\\n\\n# Import Mask RCNN\\nsys.path.append(ROOT_DIR)  # To find local version of the library\\nfrom mrcnn import utils\\nfrom mrcnn import visualize\\nfrom mrcnn.visualize import display_images\\nimport mrcnn.model as modellib\\nfrom mrcnn.model import log\\n\\n# to read image only\\nimport skimage.io\\n\\n# Directory to save logs and trained model\\nLOGS_DIR = os.path.join(ROOT_DIR, \"logs\")\\n\\n# Dataset directory\\n# DATASET_DIR = os.path.join(ROOT_DIR, \"single-particle-dataset/nucleus\")\\nDATASET_DIR = os.path.join(ROOT_DIR, \"demo_video_nucleus/frames\")\\n\\n# Inference Configuration\\nconfig = nucleus.NucleusInferenceConfig()\\nconfig.display()\\n\\n# Device to load the neural network on.\\nDEVICE = \"/cpu:0\"  # /cpu:0 or /gpu:0\\n\\n# Inspect the model in training or inference modes\\n# values: \\'inference\\' or \\'training\\'\\n# Only inference mode is supported right now\\nTEST_MODE = \"inference\"\\n\\n# Create model in inference mode\\nwith tf.device(DEVICE):\\n    model = modellib.MaskRCNN(mode=\"inference\",\\n                              model_dir=LOGS_DIR,\\n                              config=config)\\n\\n# Path to a specific weights file\\nweights_path = \"../../kaggle_bowl.h5\"\\n\\n# Load weights\\nprint(\"Loading weights \", weights_path)\\nmodel.load_weights(weights_path, by_name=True)\\n\\nimage_id = 1 # 15 # 0\\ninput_img_name = \"0001.jpg\" # \"0015.png\" # \"0000.png\"\\n# img_path = os.path.join(DATASET_DIR, \"stage1_test\", \"0000\", \"images\", input_img_name)\\nimg_path = os.path.join(DATASET_DIR, input_img_name)\\n# from https://github.com/matterport/Mask_RCNN/blob/master/mrcnn/utils.py\\n# Load image\\nimage = skimage.io.imread(img_path)\\nprint(image.ndim)\\n# remove alpha channel to get 3 dim instead of 4\\nimage = image[:,:,:3]\\nprint(\"removed alpha channel!:\", image.shape)\\n\\n# regular detection function\\nprint(\"object detection using detect()\")\\nimg_name = str(image_id) + \".png\" # \".jpg\"\\nprint(\"image name: \" + img_name)\\n\\nimport utils.utils as utils\\nimport utils.visualize as visualize\\ncoco_class_names = [\\'BG\\', \\'cell\\']\\nRESULT_DIR = os.path.join(ROOT_DIR, \"mrcnn_result\")\\nregular_results = model.detect([image], verbose=1)\\nreg_r = regular_results[0]\\n# Visualize results\\nvisualize.save_image(image, img_name, reg_r[\\'rois\\'], reg_r[\\'masks\\'],\\n  reg_r[\\'class_ids\\'], reg_r[\\'scores\\'], coco_class_names,\\n  filter_classs_names=None, scores_thresh=0.1, \\n  save_dir=RESULT_DIR, mode=1)\\n\\nprint(\"Done\")\\n'"
            ]
          },
          "metadata": {
            "tags": []
          },
          "execution_count": 11
        }
      ]
    },
    {
      "cell_type": "code",
      "metadata": {
        "id": "gFmKA2nQHvW1",
        "colab": {
          "base_uri": "https://localhost:8080/"
        },
        "outputId": "c1190e25-57a2-4b1c-e45a-813495132119"
      },
      "source": [
        "# demo r-rcnn\n",
        "!python demo_rrcnn.py"
      ],
      "execution_count": null,
      "outputs": [
        {
          "output_type": "stream",
          "text": [
            "Using TensorFlow backend.\n",
            "root dir: /content/drive/My Drive/data/summer-project/LSTM_Mask_RCNN\n",
            "\n",
            "Configurations:\n",
            "BACKBONE                       resnet50\n",
            "BACKBONE_STRIDES               [4, 8, 16, 32, 64]\n",
            "BATCH_SIZE                     1\n",
            "BBOX_STD_DEV                   [0.1 0.1 0.2 0.2]\n",
            "COMPUTE_BACKBONE_SHAPE         None\n",
            "DETECTION_MAX_INSTANCES        400\n",
            "DETECTION_MIN_CONFIDENCE       0\n",
            "DETECTION_NMS_THRESHOLD        0.3\n",
            "FPN_CLASSIF_FC_LAYERS_SIZE     1024\n",
            "GPU_COUNT                      1\n",
            "GRADIENT_CLIP_NORM             5.0\n",
            "IMAGES_PER_GPU                 1\n",
            "IMAGE_CHANNEL_COUNT            3\n",
            "IMAGE_MAX_DIM                  512\n",
            "IMAGE_META_SIZE                14\n",
            "IMAGE_MIN_DIM                  512\n",
            "IMAGE_MIN_SCALE                2.0\n",
            "IMAGE_RESIZE_MODE              pad64\n",
            "IMAGE_SHAPE                    [512 512   3]\n",
            "LEARNING_MOMENTUM              0.9\n",
            "LEARNING_RATE                  0.001\n",
            "LOSS_WEIGHTS                   {'rpn_class_loss': 1.0, 'rpn_bbox_loss': 1.0, 'mrcnn_class_loss': 1.0, 'mrcnn_bbox_loss': 1.0, 'mrcnn_mask_loss': 1.0}\n",
            "MASK_POOL_SIZE                 14\n",
            "MASK_SHAPE                     [28, 28]\n",
            "MAX_GT_INSTANCES               200\n",
            "MEAN_PIXEL                     [43.53 39.56 48.22]\n",
            "MINI_MASK_SHAPE                (56, 56)\n",
            "NAME                           nucleus\n",
            "NUM_CLASSES                    2\n",
            "POOL_SIZE                      7\n",
            "POST_NMS_ROIS_INFERENCE        2000\n",
            "POST_NMS_ROIS_TRAINING         1000\n",
            "PRE_NMS_LIMIT                  6000\n",
            "ROI_POSITIVE_RATIO             0.33\n",
            "RPN_ANCHOR_RATIOS              [0.5, 1, 2]\n",
            "RPN_ANCHOR_SCALES              (8, 16, 32, 64, 128)\n",
            "RPN_ANCHOR_STRIDE              1\n",
            "RPN_BBOX_STD_DEV               [0.1 0.1 0.2 0.2]\n",
            "RPN_NMS_THRESHOLD              0.7\n",
            "RPN_TRAIN_ANCHORS_PER_IMAGE    64\n",
            "STEPS_PER_EPOCH                10\n",
            "TOP_DOWN_PYRAMID_SIZE          256\n",
            "TRAIN_BN                       False\n",
            "TRAIN_ROIS_PER_IMAGE           128\n",
            "USE_MINI_MASK                  True\n",
            "USE_RPN_ROIS                   True\n",
            "VALIDATION_STEPS               1\n",
            "WEIGHT_DECAY                   0.0001\n",
            "\n",
            "\n",
            "WARNING:tensorflow:From /tensorflow-1.15.2/python3.7/tensorflow_core/python/ops/resource_variable_ops.py:1630: calling BaseResourceVariable.__init__ (from tensorflow.python.ops.resource_variable_ops) with constraint is deprecated and will be removed in a future version.\n",
            "Instructions for updating:\n",
            "If using Keras pass *_constraint arguments to layers.\n",
            "WARNING:tensorflow:From /tensorflow-1.15.2/python3.7/keras/backend/tensorflow_backend.py:4070: The name tf.nn.max_pool is deprecated. Please use tf.nn.max_pool2d instead.\n",
            "\n",
            "WARNING:tensorflow:From /content/drive/My Drive/data/summer-project/LSTM_Mask_RCNN/detection_module/detect_model.py:319: The name tf.log is deprecated. Please use tf.math.log instead.\n",
            "\n",
            "WARNING:tensorflow:From /content/drive/My Drive/data/summer-project/LSTM_Mask_RCNN/detection_module/detect_model.py:424: where (from tensorflow.python.ops.array_ops) is deprecated and will be removed in a future version.\n",
            "Instructions for updating:\n",
            "Use tf.where in 2.0, which has the same broadcast rule as np.where\n",
            "WARNING:tensorflow:From /content/drive/My Drive/data/summer-project/LSTM_Mask_RCNN/detection_module/detect_model.py:448: calling crop_and_resize_v1 (from tensorflow.python.ops.image_ops_impl) with box_ind is deprecated and will be removed in a future version.\n",
            "Instructions for updating:\n",
            "box_ind is deprecated, use box_indices instead\n",
            "WARNING:tensorflow:From /content/drive/My Drive/data/summer-project/LSTM_Mask_RCNN/detection_module/detect_model.py:834: py_func (from tensorflow.python.ops.script_ops) is deprecated and will be removed in a future version.\n",
            "Instructions for updating:\n",
            "tf.py_func is deprecated in TF V2. Instead, there are two\n",
            "    options available in V2.\n",
            "    - tf.py_function takes a python function which manipulates tf eager\n",
            "    tensors instead of numpy arrays. It's easy to convert a tf eager tensor to\n",
            "    an ndarray (just call tensor.numpy()) but having access to eager tensors\n",
            "    means `tf.py_function`s can use accelerators such as GPUs as well as\n",
            "    being differentiable using a gradient tape.\n",
            "    - tf.numpy_function maintains the semantics of the deprecated tf.py_func\n",
            "    (it is not differentiable, and manipulates numpy arrays). It drops the\n",
            "    stateful argument making all functions stateful.\n",
            "    \n",
            "2021-07-25 20:08:38.029266: I tensorflow/stream_executor/platform/default/dso_loader.cc:44] Successfully opened dynamic library libcuda.so.1\n",
            "2021-07-25 20:08:38.062575: I tensorflow/stream_executor/cuda/cuda_gpu_executor.cc:983] successful NUMA node read from SysFS had negative value (-1), but there must be at least one NUMA node, so returning NUMA node zero\n",
            "2021-07-25 20:08:38.063268: I tensorflow/core/common_runtime/gpu/gpu_device.cc:1639] Found device 0 with properties: \n",
            "name: Tesla T4 major: 7 minor: 5 memoryClockRate(GHz): 1.59\n",
            "pciBusID: 0000:00:04.0\n",
            "2021-07-25 20:08:38.063603: I tensorflow/stream_executor/platform/default/dso_loader.cc:44] Successfully opened dynamic library libcudart.so.10.1\n",
            "2021-07-25 20:08:38.065743: I tensorflow/stream_executor/platform/default/dso_loader.cc:44] Successfully opened dynamic library libcublas.so.10\n",
            "2021-07-25 20:08:38.067409: I tensorflow/stream_executor/platform/default/dso_loader.cc:44] Successfully opened dynamic library libcufft.so.10\n",
            "2021-07-25 20:08:38.067749: I tensorflow/stream_executor/platform/default/dso_loader.cc:44] Successfully opened dynamic library libcurand.so.10\n",
            "2021-07-25 20:08:38.069893: I tensorflow/stream_executor/platform/default/dso_loader.cc:44] Successfully opened dynamic library libcusolver.so.10\n",
            "2021-07-25 20:08:38.071010: I tensorflow/stream_executor/platform/default/dso_loader.cc:44] Successfully opened dynamic library libcusparse.so.10\n",
            "2021-07-25 20:08:38.074979: I tensorflow/stream_executor/platform/default/dso_loader.cc:44] Successfully opened dynamic library libcudnn.so.7\n",
            "2021-07-25 20:08:38.075136: I tensorflow/stream_executor/cuda/cuda_gpu_executor.cc:983] successful NUMA node read from SysFS had negative value (-1), but there must be at least one NUMA node, so returning NUMA node zero\n",
            "2021-07-25 20:08:38.076536: I tensorflow/stream_executor/cuda/cuda_gpu_executor.cc:983] successful NUMA node read from SysFS had negative value (-1), but there must be at least one NUMA node, so returning NUMA node zero\n",
            "2021-07-25 20:08:38.077070: I tensorflow/core/common_runtime/gpu/gpu_device.cc:1767] Adding visible gpu devices: 0\n",
            "2021-07-25 20:08:38.082769: I tensorflow/core/platform/profile_utils/cpu_utils.cc:94] CPU Frequency: 2199995000 Hz\n",
            "2021-07-25 20:08:38.082973: I tensorflow/compiler/xla/service/service.cc:168] XLA service 0x56301d3f0bc0 initialized for platform Host (this does not guarantee that XLA will be used). Devices:\n",
            "2021-07-25 20:08:38.083004: I tensorflow/compiler/xla/service/service.cc:176]   StreamExecutor device (0): Host, Default Version\n",
            "2021-07-25 20:08:38.296195: I tensorflow/stream_executor/cuda/cuda_gpu_executor.cc:983] successful NUMA node read from SysFS had negative value (-1), but there must be at least one NUMA node, so returning NUMA node zero\n",
            "2021-07-25 20:08:38.297029: I tensorflow/compiler/xla/service/service.cc:168] XLA service 0x56301d3f0d80 initialized for platform CUDA (this does not guarantee that XLA will be used). Devices:\n",
            "2021-07-25 20:08:38.297060: I tensorflow/compiler/xla/service/service.cc:176]   StreamExecutor device (0): Tesla T4, Compute Capability 7.5\n",
            "2021-07-25 20:08:38.297254: I tensorflow/stream_executor/cuda/cuda_gpu_executor.cc:983] successful NUMA node read from SysFS had negative value (-1), but there must be at least one NUMA node, so returning NUMA node zero\n",
            "2021-07-25 20:08:38.297891: I tensorflow/core/common_runtime/gpu/gpu_device.cc:1639] Found device 0 with properties: \n",
            "name: Tesla T4 major: 7 minor: 5 memoryClockRate(GHz): 1.59\n",
            "pciBusID: 0000:00:04.0\n",
            "2021-07-25 20:08:38.297966: I tensorflow/stream_executor/platform/default/dso_loader.cc:44] Successfully opened dynamic library libcudart.so.10.1\n",
            "2021-07-25 20:08:38.298012: I tensorflow/stream_executor/platform/default/dso_loader.cc:44] Successfully opened dynamic library libcublas.so.10\n",
            "2021-07-25 20:08:38.298037: I tensorflow/stream_executor/platform/default/dso_loader.cc:44] Successfully opened dynamic library libcufft.so.10\n",
            "2021-07-25 20:08:38.298066: I tensorflow/stream_executor/platform/default/dso_loader.cc:44] Successfully opened dynamic library libcurand.so.10\n",
            "2021-07-25 20:08:38.298090: I tensorflow/stream_executor/platform/default/dso_loader.cc:44] Successfully opened dynamic library libcusolver.so.10\n",
            "2021-07-25 20:08:38.298113: I tensorflow/stream_executor/platform/default/dso_loader.cc:44] Successfully opened dynamic library libcusparse.so.10\n",
            "2021-07-25 20:08:38.298135: I tensorflow/stream_executor/platform/default/dso_loader.cc:44] Successfully opened dynamic library libcudnn.so.7\n",
            "2021-07-25 20:08:38.298211: I tensorflow/stream_executor/cuda/cuda_gpu_executor.cc:983] successful NUMA node read from SysFS had negative value (-1), but there must be at least one NUMA node, so returning NUMA node zero\n",
            "2021-07-25 20:08:38.298830: I tensorflow/stream_executor/cuda/cuda_gpu_executor.cc:983] successful NUMA node read from SysFS had negative value (-1), but there must be at least one NUMA node, so returning NUMA node zero\n",
            "2021-07-25 20:08:38.299368: I tensorflow/core/common_runtime/gpu/gpu_device.cc:1767] Adding visible gpu devices: 0\n",
            "2021-07-25 20:08:38.299445: I tensorflow/stream_executor/platform/default/dso_loader.cc:44] Successfully opened dynamic library libcudart.so.10.1\n",
            "2021-07-25 20:08:38.300712: I tensorflow/core/common_runtime/gpu/gpu_device.cc:1180] Device interconnect StreamExecutor with strength 1 edge matrix:\n",
            "2021-07-25 20:08:38.300736: I tensorflow/core/common_runtime/gpu/gpu_device.cc:1186]      0 \n",
            "2021-07-25 20:08:38.300749: I tensorflow/core/common_runtime/gpu/gpu_device.cc:1199] 0:   N \n",
            "2021-07-25 20:08:38.300857: I tensorflow/stream_executor/cuda/cuda_gpu_executor.cc:983] successful NUMA node read from SysFS had negative value (-1), but there must be at least one NUMA node, so returning NUMA node zero\n",
            "2021-07-25 20:08:38.301420: I tensorflow/stream_executor/cuda/cuda_gpu_executor.cc:983] successful NUMA node read from SysFS had negative value (-1), but there must be at least one NUMA node, so returning NUMA node zero\n",
            "2021-07-25 20:08:38.302056: W tensorflow/core/common_runtime/gpu/gpu_bfc_allocator.cc:39] Overriding allow_growth setting because the TF_FORCE_GPU_ALLOW_GROWTH environment variable is set. Original config value was 0.\n",
            "2021-07-25 20:08:38.302098: I tensorflow/core/common_runtime/gpu/gpu_device.cc:1325] Created TensorFlow device (/job:localhost/replica:0/task:0/device:GPU:0 with 14257 MB memory) -> physical GPU (device: 0, name: Tesla T4, pci bus id: 0000:00:04.0, compute capability: 7.5)\n",
            "\n",
            "LSTM Configurations:\n",
            "BATCH_SIZE                     1\n",
            "EPOCHS                         50\n",
            "FEATURE_SIZE                   1024\n",
            "GPU_COUNT                      1\n",
            "INPUT_SIZE                     1028\n",
            "L1_CELL_SIZE                   4096\n",
            "LEARNING_RATE                  1e-05\n",
            "MRCNNBBOX_SIZE                 4\n",
            "NAME                           None\n",
            "OUTPUT_SIZE                    4\n",
            "STEPS_PER_EPOCH                1000\n",
            "THRESHOLD                      0.15\n",
            "TIME_STEPS                     4\n",
            "VALIDATION_STEPS               50\n",
            "\n",
            "\n",
            "# Building LSTM inference model --------------- #\n",
            "\n",
            "tcmalloc: large alloc 1208123392 bytes == 0x56307f31a000 @  0x7faefca301e7 0x7faeee1bcaf0 0x7faefa11500b 0x7faefa115516 0x5630053258a9 0x563005399b0a 0x563005393c35 0x563005265e2c 0x7faef9f1aef7 0x563005324f97 0x563005324da0 0x563005398bb3 0x563005393c35 0x56300532673a 0x56300539593b 0x563005393c35 0x563005326fec 0x563005369e79 0x5630053258a9 0x563005399b0a 0x563005393c35 0x56300532673a 0x56300539593b 0x563005393dcc 0x56300532673a 0x563005394d67 0x563005394235 0x563005326dd1 0x5630053271f1 0x563005396318 0x563005393dcc\n",
            "tcmalloc: large alloc 1208123392 bytes == 0x563097320000 @  0x7faefca301e7 0x7faeee1bcaf0 0x7faefa11500b 0x7faefa115516 0x5630053258a9 0x563005399b0a 0x563005393c35 0x563005265e2c 0x7faef9f1aef7 0x563005324f97 0x563005324da0 0x563005398bb3 0x563005393c35 0x56300532673a 0x56300539593b 0x563005393c35 0x563005326fec 0x563005369e79 0x5630053258a9 0x563005399b0a 0x563005393c35 0x56300532673a 0x56300539593b 0x563005393dcc 0x56300532673a 0x563005394d67 0x563005394235 0x563005326dd1 0x5630053271f1 0x563005396318 0x563005393dcc\n",
            "Model: \"RRCNN\"\n",
            "__________________________________________________________________________________________________\n",
            "Layer (type)                    Output Shape         Param #     Connected to                     \n",
            "==================================================================================================\n",
            "input_1 (InputLayer)            (1, 4, 4)            0                                            \n",
            "__________________________________________________________________________________________________\n",
            "input_2 (InputLayer)            (1, 4, 1024)         0                                            \n",
            "__________________________________________________________________________________________________\n",
            "cu_dnnlstm_1 (CuDNNLSTM)        (1, 4096)            67207168    input_1[0][0]                    \n",
            "__________________________________________________________________________________________________\n",
            "cu_dnnlstm_2 (CuDNNLSTM)        (1, 4096)            83918848    input_2[0][0]                    \n",
            "__________________________________________________________________________________________________\n",
            "dense_3 (Dense)                 (1, 2048)            8390656     cu_dnnlstm_1[0][0]               \n",
            "__________________________________________________________________________________________________\n",
            "dense_5 (Dense)                 (1, 2048)            8390656     cu_dnnlstm_2[0][0]               \n",
            "__________________________________________________________________________________________________\n",
            "dense_4 (Dense)                 (1, 1024)            2098176     dense_3[0][0]                    \n",
            "__________________________________________________________________________________________________\n",
            "dense_6 (Dense)                 (1, 1024)            2098176     dense_5[0][0]                    \n",
            "__________________________________________________________________________________________________\n",
            "concatenate_1 (Concatenate)     (1, 2048)            0           dense_4[0][0]                    \n",
            "                                                                 dense_6[0][0]                    \n",
            "__________________________________________________________________________________________________\n",
            "lambda_4 (Lambda)               (1, 4)               0           input_1[0][0]                    \n",
            "__________________________________________________________________________________________________\n",
            "dense_7 (Dense)                 (1, 4)               8196        concatenate_1[0][0]              \n",
            "__________________________________________________________________________________________________\n",
            "add_34 (Add)                    (1, 4)               0           lambda_4[0][0]                   \n",
            "                                                                 dense_7[0][0]                    \n",
            "==================================================================================================\n",
            "Total params: 172,111,876\n",
            "Trainable params: 172,111,876\n",
            "Non-trainable params: 0\n",
            "__________________________________________________________________________________________________\n",
            "Image name: 0001.jpg\n",
            "Image name: 0002.jpg\n",
            "Processing 1 images\n",
            "image                    shape: (200, 200, 3)         min:    0.00000  max:  255.00000\n",
            "molded_images            shape: (1, 512, 512, 3)      min:  -48.22000  max:  215.44000\n",
            "image_metas              shape: (1, 10)               min:    0.00000  max:  512.00000\n",
            "WARNING:tensorflow:From /tensorflow-1.15.2/python3.7/keras/backend/tensorflow_backend.py:422: The name tf.global_variables is deprecated. Please use tf.compat.v1.global_variables instead.\n",
            "\n",
            "2021-07-25 20:13:20.270049: I tensorflow/stream_executor/platform/default/dso_loader.cc:44] Successfully opened dynamic library libcublas.so.10\n",
            "2021-07-25 20:13:20.480274: I tensorflow/stream_executor/platform/default/dso_loader.cc:44] Successfully opened dynamic library libcudnn.so.7\n",
            "squeeze                  shape: (1, 2000, 1024)       min:    0.00000  max:    5.79721\n",
            "Image name: 0003.jpg\n",
            "Processing 1 images\n",
            "image                    shape: (200, 200, 3)         min:    0.00000  max:  255.00000\n",
            "molded_images            shape: (1, 512, 512, 3)      min:  -48.22000  max:  215.44000\n",
            "image_metas              shape: (1, 10)               min:    0.00000  max:  512.00000\n",
            "squeeze                  shape: (1, 2000, 1024)       min:    0.00000  max:    5.82487\n",
            "Image name: 0004.jpg\n",
            "Processing 1 images\n",
            "image                    shape: (200, 200, 3)         min:    0.00000  max:  255.00000\n",
            "molded_images            shape: (1, 512, 512, 3)      min:  -48.22000  max:  215.44000\n",
            "image_metas              shape: (1, 10)               min:    0.00000  max:  512.00000\n",
            "squeeze                  shape: (1, 2000, 1024)       min:    0.00000  max:    5.58184\n",
            "Image name: 0005.jpg\n",
            "Processing 1 images\n",
            "image                    shape: (200, 200, 3)         min:    0.00000  max:  255.00000\n",
            "molded_images            shape: (1, 512, 512, 3)      min:  -48.22000  max:  215.44000\n",
            "image_metas              shape: (1, 10)               min:    0.00000  max:  512.00000\n",
            "squeeze                  shape: (1, 2000, 1024)       min:    0.00000  max:    5.81101\n",
            "Image name: 0006.jpg\n",
            "Processing 1 images\n",
            "image                    shape: (200, 200, 3)         min:    0.00000  max:  255.00000\n",
            "molded_images            shape: (1, 512, 512, 3)      min:  -48.22000  max:  215.44000\n",
            "image_metas              shape: (1, 10)               min:    0.00000  max:  512.00000\n",
            "squeeze                  shape: (1, 2000, 1024)       min:    0.00000  max:    6.15879\n",
            "Image name: 0007.jpg\n",
            "Processing 1 images\n",
            "image                    shape: (200, 200, 3)         min:    0.00000  max:  255.00000\n",
            "molded_images            shape: (1, 512, 512, 3)      min:  -48.22000  max:  215.44000\n",
            "image_metas              shape: (1, 10)               min:    0.00000  max:  512.00000\n",
            "squeeze                  shape: (1, 2000, 1024)       min:    0.00000  max:    6.09540\n",
            "Image name: 0008.jpg\n",
            "Processing 1 images\n",
            "image                    shape: (200, 200, 3)         min:    0.00000  max:  255.00000\n",
            "molded_images            shape: (1, 512, 512, 3)      min:  -48.22000  max:  215.44000\n",
            "image_metas              shape: (1, 10)               min:    0.00000  max:  512.00000\n",
            "squeeze                  shape: (1, 2000, 1024)       min:    0.00000  max:    5.55241\n",
            "Image name: 0009.jpg\n",
            "Processing 1 images\n",
            "image                    shape: (200, 200, 3)         min:    0.00000  max:  255.00000\n",
            "molded_images            shape: (1, 512, 512, 3)      min:  -48.22000  max:  215.44000\n",
            "image_metas              shape: (1, 10)               min:    0.00000  max:  512.00000\n",
            "squeeze                  shape: (1, 2000, 1024)       min:    0.00000  max:    5.72017\n",
            "Image name: 0010.jpg\n",
            "Processing 1 images\n",
            "image                    shape: (200, 200, 3)         min:    0.00000  max:  255.00000\n",
            "molded_images            shape: (1, 512, 512, 3)      min:  -48.22000  max:  215.44000\n",
            "image_metas              shape: (1, 10)               min:    0.00000  max:  512.00000\n",
            "squeeze                  shape: (1, 2000, 1024)       min:    0.00000  max:    5.72040\n",
            "Image name: 0011.jpg\n",
            "Processing 1 images\n",
            "image                    shape: (200, 200, 3)         min:    0.00000  max:  255.00000\n",
            "molded_images            shape: (1, 512, 512, 3)      min:  -48.22000  max:  215.44000\n",
            "image_metas              shape: (1, 10)               min:    0.00000  max:  512.00000\n",
            "squeeze                  shape: (1, 2000, 1024)       min:    0.00000  max:    6.37991\n",
            "Image name: 0012.jpg\n",
            "Processing 1 images\n",
            "image                    shape: (200, 200, 3)         min:    0.00000  max:  255.00000\n",
            "molded_images            shape: (1, 512, 512, 3)      min:  -48.22000  max:  215.44000\n",
            "image_metas              shape: (1, 10)               min:    0.00000  max:  512.00000\n",
            "squeeze                  shape: (1, 2000, 1024)       min:    0.00000  max:    6.36493\n",
            "Image name: 0013.jpg\n",
            "Processing 1 images\n",
            "image                    shape: (200, 200, 3)         min:    0.00000  max:  255.00000\n",
            "molded_images            shape: (1, 512, 512, 3)      min:  -48.22000  max:  215.44000\n",
            "image_metas              shape: (1, 10)               min:    0.00000  max:  512.00000\n",
            "squeeze                  shape: (1, 2000, 1024)       min:    0.00000  max:    5.68316\n",
            "Image name: 0014.jpg\n",
            "Processing 1 images\n",
            "image                    shape: (200, 200, 3)         min:    0.00000  max:  255.00000\n",
            "molded_images            shape: (1, 512, 512, 3)      min:  -48.22000  max:  215.44000\n",
            "image_metas              shape: (1, 10)               min:    0.00000  max:  512.00000\n",
            "squeeze                  shape: (1, 2000, 1024)       min:    0.00000  max:    6.65748\n",
            "\n",
            "# ------------------------------------ #\n",
            "# Build LSTM Model Time: 277.459\n",
            "# Processed Frames: 14\n",
            "# Cost Time: 25.543\n",
            "# FPS: 0.5\n",
            "# ------------------------------------ #\n",
            "\n"
          ],
          "name": "stdout"
        }
      ]
    }
  ]
}